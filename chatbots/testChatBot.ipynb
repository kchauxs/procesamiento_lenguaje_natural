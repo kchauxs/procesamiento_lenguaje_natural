{
 "metadata": {
  "language_info": {
   "codemirror_mode": {
    "name": "ipython",
    "version": 3
   },
   "file_extension": ".py",
   "mimetype": "text/x-python",
   "name": "python",
   "nbconvert_exporter": "python",
   "pygments_lexer": "ipython3",
   "version": "3.8.5-final"
  },
  "orig_nbformat": 2,
  "kernelspec": {
   "name": "python3",
   "display_name": "Python 3",
   "language": "python"
  }
 },
 "nbformat": 4,
 "nbformat_minor": 2,
 "cells": [
  {
   "cell_type": "code",
   "execution_count": 1,
   "metadata": {},
   "outputs": [],
   "source": [
    "import nltk\n",
    "import numpy as np\n",
    "import urllib.request\n",
    "import random\n",
    "import string\n",
    "import pyttsx3\n",
    "\n",
    "from bs4 import BeautifulSoup\n",
    "from sklearn.feature_extraction.text import TfidfVectorizer\n",
    "from sklearn.metrics.pairwise import cosine_similarity\n",
    "from nltk.corpus import stopwords  "
   ]
  },
  {
   "source": [
    "### Sintesis de Voz"
   ],
   "cell_type": "markdown",
   "metadata": {}
  },
  {
   "cell_type": "code",
   "execution_count": 2,
   "metadata": {},
   "outputs": [],
   "source": [
    "engine = pyttsx3.init()\n",
    "engine.setProperty('rate',150)\n",
    "engine.setProperty('voice','spanish')"
   ]
  },
  {
   "cell_type": "code",
   "execution_count": 3,
   "metadata": {},
   "outputs": [],
   "source": [
    "def speak(texto):\n",
    "    engine.say(texto)\n",
    "    engine.runAndWait()"
   ]
  },
  {
   "cell_type": "code",
   "execution_count": 4,
   "metadata": {},
   "outputs": [],
   "source": [
    "#obtener el contenido HTML de la pagina web \n",
    "res = urllib.request.urlopen(\"https://www.ionos.es/digitalguide/paginas-web/desarrollo-web/que-es-el-web-scraping/\")\n",
    "html = res.read()\n",
    "soup = BeautifulSoup(html,\"html.parser\")"
   ]
  },
  {
   "cell_type": "code",
   "execution_count": 5,
   "metadata": {},
   "outputs": [
    {
     "output_type": "stream",
     "name": "stdout",
     "text": [
      "{'a', 'link', 'article', 'meta', 'section', 'base', 'form', 'title', 'noscript', 'label', 'fieldset', 'h1', 'footer', 'time', 'i', 'picture', 'input', 'ol', 'nav', 'br', 'strong', 'body', 'h3', 'script', 'main', 'ul', 'head', 'style', 'p', 'img', 'em', 'div', 'span', 'button', 'source', 'li', 'header', 'h2', 'h4', 'html'}\n"
     ]
    }
   ],
   "source": [
    "#observamos la etiquetas HTML\n",
    "setTag = {x.name for x in soup.find_all(True)}\n",
    "print(setTag)"
   ]
  },
  {
   "cell_type": "code",
   "execution_count": 6,
   "metadata": {},
   "outputs": [],
   "source": [
    "def searchByTag(tagName):\n",
    "    Content = ''\n",
    "    for tag in soup.find_all(tagName):\n",
    "        if(len(tag.text) > 144):\n",
    "            Content += tag.text+'\\n\\n'\n",
    "    return Content\n"
   ]
  },
  {
   "cell_type": "code",
   "execution_count": 7,
   "metadata": {},
   "outputs": [],
   "source": [
    "Content = searchByTag('p')\n",
    "# print(Content)"
   ]
  },
  {
   "cell_type": "code",
   "execution_count": 8,
   "metadata": {},
   "outputs": [],
   "source": [
    "raw = Content.lower()"
   ]
  },
  {
   "cell_type": "code",
   "execution_count": 9,
   "metadata": {},
   "outputs": [],
   "source": [
    "sent_tokens = nltk.sent_tokenize(raw) # convertir corpus a una lista de sentencias (tekenizar en sentencias)\n",
    "word_tokens = nltk.word_tokenize(raw) # convertir corpus a una lista de palabras (tokenizar en palabras)\n",
    "\n",
    "lemmer = nltk.stem.WordNetLemmatizer()#"
   ]
  },
  {
   "cell_type": "code",
   "execution_count": 10,
   "metadata": {},
   "outputs": [],
   "source": [
    "remove_punct_dict = dict((ord(punct),None) for punct in string.punctuation) #remover signos de puntuacion (utilizamos la )\n",
    "\n",
    "def LemTokens(tokens):\n",
    "    return [lemmer.lemmatize(token) for token in tokens] # Lematizar palabras tokenizadas\n",
    "\n",
    "def LemNormalize(text):\n",
    "    return LemTokens(nltk.word_tokenize(text.lower().translate(remove_punct_dict)))"
   ]
  },
  {
   "cell_type": "code",
   "execution_count": 11,
   "metadata": {},
   "outputs": [],
   "source": [
    "#Determinar la similutud del texto inserdado y el corpus\n",
    "\n",
    "def response(user_response):# funcion respuesta (entrada: mensje de usuario)\n",
    "    chatbot_response = '' #definir la respuesta del chatbot\n",
    "    sent_tokens.append(user_response)# al listado de sentencias del corpus añadir al final de la lista el mensaje del usuario\n",
    "    TfidfVec = TfidfVectorizer(tokenizer=LemNormalize,stop_words=stopwords.words('spanish'))# Lematizar y eliminar palbras\n",
    "    tfidf = TfidfVec.fit_transform(sent_tokens)\n",
    "\n",
    "    # print(\"a\",tfidf[-1])\n",
    "    # print(\"------------------\")\n",
    "    # print(tfidf)\n",
    "    # 3 Evaluar similitud coseno entre mensaje usuario (tfid[-1]) y el corpus(tfidf)\n",
    "    vals = cosine_similarity(tfidf[-1],tfidf)\n",
    "   \n",
    "\n",
    "    idx = vals.argsort()[0][-2]\n",
    "    flat = vals.flatten()\n",
    "    \n",
    "    flat.sort()\n",
    "  \n",
    "    req_tfidf = flat[-2]\n",
    "    # print(\"------------------\")\n",
    "    # print(req_tfidf)\n",
    "    # print(idx)\n",
    "    if(req_tfidf == 0):\n",
    "        chatbot_response = chatbot_response + \"Lo siento, no te he entendido\"\n",
    "        return chatbot_response\n",
    "    \n",
    "    else:\n",
    "        chatbot_response = chatbot_response + sent_tokens[idx]\n",
    "        return chatbot_response"
   ]
  },
  {
   "cell_type": "code",
   "execution_count": 12,
   "metadata": {},
   "outputs": [],
   "source": [
    "SALUDOS_INPUTS = (\"hola\",\"buenas\",\"saludos\",\"que tal\",\"hey\",\"buenos dias\")\n",
    "SALUDOS_OUTPUTS = [\"hola\",\"hola, que tal?\",\"Hola, Como te puedo ayudar?\",\"hola, encantado de hablar contigo\"]\n",
    "\n",
    "def saludos(sentence):\n",
    "    for word in sentence.split():\n",
    "        # print(word.lower() in SALUDOS_INPUTS)\n",
    "        if word.lower() in SALUDOS_INPUTS:\n",
    "            return random.choice(SALUDOS_OUTPUTS)"
   ]
  },
  {
   "cell_type": "code",
   "execution_count": 15,
   "metadata": {},
   "outputs": [
    {
     "output_type": "stream",
     "name": "stdout",
     "text": [
      "AGENTE: MI NOMBRE ES ROXANNE. CONTESTARE A SUS PREGUNTAS ACERCA DEL WEB SCRAPING Y SUS ASUNTOS LEGALES.\n",
      "Roxanne:> google es un buen ejemplo de web scraping.\n",
      "Roxanne:> el scrapingno siempre es legal.\n",
      "Roxanne:> los motores de búsqueda, como google, utilizan desde hace tiempo los denominados rastreadores web o crawlers, que exploran internet en busca de términos definidos por el usuario.\n",
      "Roxanne:> No hay de que\n",
      "Roxanne:> Nos vemos pronto, !Gracias por su visita¡\n"
     ]
    }
   ],
   "source": [
    "flag = True\n",
    "introduces = \"AGENTE: MI NOMBRE ES ROXANNE. CONTESTARE A SUS PREGUNTAS ACERCA DEL WEB SCRAPING Y SUS ASUNTOS LEGALES.\"\n",
    "\n",
    "print(introduces)\n",
    "speak(introduces)\n",
    "\n",
    "while(flag == True):\n",
    "\n",
    "    user_response = input()\n",
    "    user_response = user_response.lower() #convertimos a minuscula\n",
    "\n",
    "    if(user_response not in [\"salir\",\"chao\",\"adios\",\"bay\",\"exit\"]):\n",
    "\n",
    "        if(user_response == 'gracias' or user_response == 'muchas gracias'): #se podria haber definido otra funcion de coincidencia\n",
    "            flag = True\n",
    "            thanks_res = \"No hay de que\"\n",
    "            print(\"Roxanne:> \"+ thanks_res)\n",
    "            speak(thanks_res)\n",
    "        else:\n",
    "            if(saludos(user_response) != None): # si la palabra insertada por el usuario es un saludo (coincidencia manuales)\n",
    "                greets = saludos(user_response) \n",
    "                print(\"Roxanne:> \" + greets)\n",
    "                speak(greets)\n",
    "\n",
    "            else:#si la palabra insertada no es un saludo --> Corpus\n",
    "                respond = response(user_response)\n",
    "                print(\"Roxanne:> \" + respond )\n",
    "                speak(respond)\n",
    "                sent_tokens.remove(user_response) # para eliminar del corpus la respues del usuario y volver a evaluar \n",
    "    else:\n",
    "        flag = False\n",
    "        print(\"Roxanne:> Nos vemos pronto, !Gracias por su visita¡\")\n",
    "        speak(\"Nos vemos pronto, !Gracias por su visita¡\")    "
   ]
  },
  {
   "cell_type": "code",
   "execution_count": 16,
   "metadata": {},
   "outputs": [],
   "source": [
    "# print(Content)"
   ]
  },
  {
   "cell_type": "code",
   "execution_count": null,
   "metadata": {},
   "outputs": [],
   "source": []
  }
 ]
}