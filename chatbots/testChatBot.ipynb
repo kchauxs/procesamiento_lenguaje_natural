{
 "metadata": {
  "language_info": {
   "codemirror_mode": {
    "name": "ipython",
    "version": 3
   },
   "file_extension": ".py",
   "mimetype": "text/x-python",
   "name": "python",
   "nbconvert_exporter": "python",
   "pygments_lexer": "ipython3",
   "version": "3.8.5-final"
  },
  "orig_nbformat": 2,
  "kernelspec": {
   "name": "python3",
   "display_name": "Python 3",
   "language": "python"
  }
 },
 "nbformat": 4,
 "nbformat_minor": 2,
 "cells": [
  {
   "cell_type": "code",
   "execution_count": 1,
   "metadata": {},
   "outputs": [],
   "source": [
    "import nltk\n",
    "import numpy as np\n",
    "import urllib.request\n",
    "import random\n",
    "import string\n",
    "import pyttsx3\n",
    "import speech_recognition as sr\n",
    "\n",
    "from bs4 import BeautifulSoup\n",
    "from sklearn.feature_extraction.text import TfidfVectorizer\n",
    "from sklearn.metrics.pairwise import cosine_similarity\n",
    "from nltk.corpus import stopwords \n",
    " "
   ]
  },
  {
   "source": [
    "### Procesamiento de Voz"
   ],
   "cell_type": "markdown",
   "metadata": {}
  },
  {
   "cell_type": "code",
   "execution_count": 2,
   "metadata": {},
   "outputs": [],
   "source": [
    "r = sr.Recognizer()\n",
    "mic = sr.Microphone()\n",
    "# sr.Microphone.list_microphone_names()"
   ]
  },
  {
   "source": [
    "### Sintesis de Voz"
   ],
   "cell_type": "markdown",
   "metadata": {}
  },
  {
   "cell_type": "code",
   "execution_count": 3,
   "metadata": {},
   "outputs": [],
   "source": [
    "engine = pyttsx3.init()\n",
    "engine.setProperty('rate',150)\n",
    "engine.setProperty('voice','spanish')"
   ]
  },
  {
   "cell_type": "code",
   "execution_count": 4,
   "metadata": {},
   "outputs": [],
   "source": [
    "def speak(texto):\n",
    "    engine.say(texto)\n",
    "    engine.runAndWait()"
   ]
  },
  {
   "cell_type": "code",
   "execution_count": 5,
   "metadata": {},
   "outputs": [],
   "source": [
    "#obtener el contenido HTML de la pagina web \n",
    "res = urllib.request.urlopen(\"https://www.ionos.es/digitalguide/paginas-web/desarrollo-web/que-es-el-web-scraping/\")\n",
    "html = res.read()\n",
    "soup = BeautifulSoup(html,\"html.parser\")"
   ]
  },
  {
   "cell_type": "code",
   "execution_count": 6,
   "metadata": {},
   "outputs": [
    {
     "output_type": "stream",
     "name": "stdout",
     "text": [
      "{'script', 'form', 'head', 'li', 'h4', 'ol', 'i', 'em', 'base', 'html', 'link', 'title', 'a', 'h2', 'meta', 'h1', 'strong', 'footer', 'style', 'span', 'label', 'noscript', 'main', 'div', 'br', 'time', 'body', 'article', 'button', 'section', 'ul', 'header', 'h3', 'picture', 'img', 'fieldset', 'source', 'nav', 'input', 'p'}\n"
     ]
    }
   ],
   "source": [
    "#observamos la etiquetas HTML\n",
    "setTag = {x.name for x in soup.find_all(True)}\n",
    "print(setTag)"
   ]
  },
  {
   "cell_type": "code",
   "execution_count": 7,
   "metadata": {},
   "outputs": [],
   "source": [
    "def searchByTag(tagName):\n",
    "    Content = ''\n",
    "    for tag in soup.find_all(tagName):\n",
    "        if(len(tag.text) > 144):\n",
    "            Content += tag.text+'\\n\\n'\n",
    "    return Content\n"
   ]
  },
  {
   "cell_type": "code",
   "execution_count": 8,
   "metadata": {},
   "outputs": [],
   "source": [
    "Content = searchByTag('p')\n",
    "# print(Content)"
   ]
  },
  {
   "cell_type": "code",
   "execution_count": 9,
   "metadata": {},
   "outputs": [],
   "source": [
    "raw = Content.lower()"
   ]
  },
  {
   "cell_type": "code",
   "execution_count": 10,
   "metadata": {},
   "outputs": [],
   "source": [
    "sent_tokens = nltk.sent_tokenize(raw) # convertir corpus a una lista de sentencias (tekenizar en sentencias)\n",
    "word_tokens = nltk.word_tokenize(raw) # convertir corpus a una lista de palabras (tokenizar en palabras)\n",
    "\n",
    "lemmer = nltk.stem.WordNetLemmatizer()#"
   ]
  },
  {
   "cell_type": "code",
   "execution_count": 11,
   "metadata": {},
   "outputs": [],
   "source": [
    "remove_punct_dict = dict((ord(punct),None) for punct in string.punctuation) #remover signos de puntuacion (utilizamos la )\n",
    "\n",
    "def LemTokens(tokens):\n",
    "    return [lemmer.lemmatize(token) for token in tokens] # Lematizar palabras tokenizadas\n",
    "\n",
    "def LemNormalize(text):\n",
    "    return LemTokens(nltk.word_tokenize(text.lower().translate(remove_punct_dict)))"
   ]
  },
  {
   "cell_type": "code",
   "execution_count": 12,
   "metadata": {},
   "outputs": [],
   "source": [
    "#Determinar la similutud del texto inserdado y el corpus\n",
    "\n",
    "def response(user_response):# funcion respuesta (entrada: mensje de usuario)\n",
    "    chatbot_response = '' #definir la respuesta del chatbot\n",
    "    sent_tokens.append(user_response)# al listado de sentencias del corpus añadir al final de la lista el mensaje del usuario\n",
    "    TfidfVec = TfidfVectorizer(tokenizer=LemNormalize,stop_words=stopwords.words('spanish'))# Lematizar y eliminar palbras\n",
    "    tfidf = TfidfVec.fit_transform(sent_tokens)\n",
    "\n",
    "    # print(\"a\",tfidf[-1])\n",
    "    # print(\"------------------\")\n",
    "    # print(tfidf)\n",
    "    # 3 Evaluar similitud coseno entre mensaje usuario (tfid[-1]) y el corpus(tfidf)\n",
    "    vals = cosine_similarity(tfidf[-1],tfidf)\n",
    "   \n",
    "\n",
    "    idx = vals.argsort()[0][-2]\n",
    "    flat = vals.flatten()\n",
    "    \n",
    "    flat.sort()\n",
    "  \n",
    "    req_tfidf = flat[-2]\n",
    "    # print(\"------------------\")\n",
    "    # print(req_tfidf)\n",
    "    # print(idx)\n",
    "    if(req_tfidf == 0):\n",
    "        chatbot_response = chatbot_response + \"Lo siento, no te he entendido\"\n",
    "        return chatbot_response\n",
    "    \n",
    "    else:\n",
    "        chatbot_response = chatbot_response + sent_tokens[idx]\n",
    "        return chatbot_response"
   ]
  },
  {
   "cell_type": "code",
   "execution_count": 13,
   "metadata": {},
   "outputs": [],
   "source": [
    "SALUDOS_INPUTS = (\"hola\",\"buenas\",\"saludos\",\"que tal\",\"hey\",\"buenos dias\")\n",
    "SALUDOS_OUTPUTS = [\"hola\",\"hola, que tal?\",\"Hola, Como te puedo ayudar?\",\"hola, encantado de hablar contigo\"]\n",
    "\n",
    "def saludos(sentence):\n",
    "    for word in sentence.split():\n",
    "        # print(word.lower() in SALUDOS_INPUTS)\n",
    "        if word.lower() in SALUDOS_INPUTS:\n",
    "            return random.choice(SALUDOS_OUTPUTS)"
   ]
  },
  {
   "cell_type": "code",
   "execution_count": 14,
   "metadata": {},
   "outputs": [],
   "source": [
    "# flag = True\n",
    "# # r = sr.Recognizer()\n",
    "# # mic = sr.Microphone()\n",
    "# introduces = \"AGENTE: MI NOMBRE ES ROXANNE\"\n",
    "\n",
    "# print(introduces)\n",
    "# speak(introduces)\n",
    "\n",
    "# while(flag == True):\n",
    "\n",
    "#     # user_response = input()\n",
    "#     # user_response = user_response.lower() #convertimos a minuscula\n",
    "\n",
    "    \n",
    "#     # speak(\"Dime cual es tud duda\")\n",
    "#     # with sr.Microphone() as source:\n",
    "#     #     audio = r.listen(source)\n",
    "\n",
    "#     #     try:\n",
    "#     #         text = r.recognize_google(audio, language='es')\n",
    "#     #         entrada = format(text)\n",
    "#     #         print(entrada)\n",
    "#     #         #print(\"Lo que dijiste: {}\".format(text))\n",
    "#     #     except:\n",
    "#     #         entrada = 'Lo siento, no te entiendo'\n",
    "#     #         print(entrada)\n",
    "#     #         #print(\"Lo siento, no te entiendo\")\n",
    "#     # user_response = entrada\n",
    "\n",
    "\n",
    "#     speak(\"Dime cual es tud duda\")\n",
    "\n",
    "#     with sr.Microphone() as source:\n",
    "#         r.adjust_for_ambient_noise(source)\n",
    "#         audio = r.listen(source)\n",
    "\n",
    "#     text = r.recognize_google(audio, language='es',show_all=True)\n",
    "    \n",
    "#     # entrada = format(text)\n",
    "\n",
    "#     try:\n",
    "#         entrada = text['alternative'][0]['transcript']\n",
    "#         # print(entrada)\n",
    "        \n",
    "#     except:\n",
    "#         entrada = ' '\n",
    "#     print(\"user:> \",entrada)\n",
    "#     user_response = entrada.lower()\n",
    "\n",
    "\n",
    "\n",
    "\n",
    "\n",
    "\n",
    "\n",
    "\n",
    "\n",
    "\n",
    "#     if(user_response not in [\"salir\",\"chao\",\"adios\",\"bay\",\"exit\"]):\n",
    "\n",
    "#         if(user_response == 'gracias' or user_response == 'muchas gracias'): #se podria haber definido otra funcion de coincidencia\n",
    "#             flag = True\n",
    "#             thanks_res = \"No hay de que\"\n",
    "#             print(\"Roxanne:> \"+ thanks_res)\n",
    "#             speak(thanks_res)\n",
    "#         else:\n",
    "#             if(saludos(user_response) != None): # si la palabra insertada por el usuario es un saludo (coincidencia manuales)\n",
    "#                 greets = saludos(user_response) \n",
    "#                 print(\"Roxanne:> \" + greets)\n",
    "#                 speak(greets)\n",
    "\n",
    "#             else:#si la palabra insertada no es un saludo --> Corpus\n",
    "#                 respond = response(user_response)\n",
    "#                 print(\"Roxanne:> \" + respond )\n",
    "#                 speak(respond)\n",
    "#                 sent_tokens.remove(user_response) # para eliminar del corpus la respues del usuario y volver a evaluar \n",
    "#     else:\n",
    "#         flag = False\n",
    "#         print(\"Roxanne:> Nos vemos pronto, !Gracias por su visita¡\")\n",
    "#         speak(\"Nos vemos pronto, !Gracias por su visita¡\")    "
   ]
  },
  {
   "cell_type": "code",
   "execution_count": 15,
   "metadata": {},
   "outputs": [],
   "source": [
    "# print(Content)"
   ]
  },
  {
   "cell_type": "code",
   "execution_count": 16,
   "metadata": {},
   "outputs": [],
   "source": [
    "def speakAgent(msg):\n",
    "    print(msg)\n",
    "    speak(msg)\n"
   ]
  },
  {
   "cell_type": "code",
   "execution_count": 17,
   "metadata": {},
   "outputs": [],
   "source": [
    "def chatBots():\n",
    "    flag = True\n",
    "    mode = True\n",
    "    chat = True\n",
    "    speakAgent(\"MI NOMBRE ES ROXANNE\")\n",
    "    while(mode == True):\n",
    "        \n",
    "        speakAgent(\"Si deseas hacerme preguntas por voz, por favor escriba, si, de lo contrario te respondere a las preguntas que me escribes en el formulario\")\n",
    "        res = input()\n",
    "        \n",
    "        if res.lower() in [\"si\",\"ok\",\"y\"]:\n",
    "            print(res)\n",
    "            chat = False\n",
    "            mode = False\n",
    "        elif res.lower() in [\"no\",\"not\"]:\n",
    "            mode = False\n",
    "\n",
    "    while(flag == True):\n",
    "\n",
    "        if chat:\n",
    "            speakAgent(\"Por favor, escribame tu pregunta?\")\n",
    "            user_response = input()\n",
    "            user_response = user_response.lower()\n",
    "        else:\n",
    "            speak(\"Dime cual es tu duda\")\n",
    "            with sr.Microphone() as source:\n",
    "                r.adjust_for_ambient_noise(source)\n",
    "                audio = r.listen(source)\n",
    "                \n",
    "            text = r.recognize_google(audio, language='es',show_all=True)\n",
    "            try:\n",
    "                entrada = text['alternative'][0]['transcript']\n",
    "                # print(entrada)\n",
    "            except:\n",
    "                entrada = ' '\n",
    "                print(\"user:> \",entrada)\n",
    "\n",
    "            user_response = entrada.lower()\n",
    "\n",
    "        if(user_response not in [\"salir\",\"chao\",\"adios\",\"bay\",\"exit\"]):\n",
    "            if(user_response == 'gracias' or user_response == 'muchas gracias'): #se podria haber definido otra funcion de coincidencia\n",
    "                flag = True\n",
    "                speakAgent(thanks_res)\n",
    "            else:\n",
    "                if(saludos(user_response) != None): # si la palabra insertada por el usuario es un saludo (coincidencia manuales)\n",
    "                    greets = saludos(user_response) \n",
    "                    speakAgent(greets)\n",
    "\n",
    "                else:#si la palabra insertada no es un saludo --> Corpus\n",
    "                    respond = response(user_response)\n",
    "                    speakAgent(respond)\n",
    "                    sent_tokens.remove(user_response) # para eliminar del corpus la respues del usuario y volver a evaluar \n",
    "        else:\n",
    "            flag = False\n",
    "            speakAgent(\"Nos vemos pronto, !Gracias por su visita¡\") \n"
   ]
  },
  {
   "cell_type": "code",
   "execution_count": 19,
   "metadata": {},
   "outputs": [
    {
     "output_type": "stream",
     "name": "stdout",
     "text": [
      "MI NOMBRE ES ROXANNE\n",
      "Si deseas hacerme preguntas por voz, por favor escriba, si, de lo contrario te respondere a las preguntas que me escribes en el formulario\n",
      "si\n",
      "el scrapingno siempre es legal.\n",
      "el primer rastreador web se creó ya en 1993, cuando se presentó el primer motor de búsqueda: jumpstation.\n",
      "Lo siento, no te he entendido\n",
      "user:>   \n",
      "Lo siento, no te he entendido\n",
      "en primer lugar, los scrapers deben tener en cuenta los derechos de propiedad intelectual de los sitios web.\n",
      "Nos vemos pronto, !Gracias por su visita¡\n"
     ]
    }
   ],
   "source": [
    "chatBots()"
   ]
  },
  {
   "cell_type": "code",
   "execution_count": null,
   "metadata": {},
   "outputs": [],
   "source": [
    "# flag = True\n",
    "# # r = sr.Recognizer()\n",
    "# # mic = sr.Microphone()\n",
    "# introduces = \"AGENTE: MI NOMBRE ES ROXANNE\"\n",
    "\n",
    "# print(\"AGENTE:> \",introduces)\n",
    "# speak(introduces)\n",
    "\n",
    "# while(flag == True):\n",
    "\n",
    "#     # user_response = input()\n",
    "#     # user_response = user_response.lower() #convertimos a minuscula\n",
    "\n",
    "    \n",
    "#     # speak(\"Dime cual es tud duda\")\n",
    "#     # with sr.Microphone() as source:\n",
    "#     #     audio = r.listen(source)\n",
    "\n",
    "#     #     try:\n",
    "#     #         text = r.recognize_google(audio, language='es')\n",
    "#     #         entrada = format(text)\n",
    "#     #         print(entrada)\n",
    "#     #         #print(\"Lo que dijiste: {}\".format(text))\n",
    "#     #     except:\n",
    "#     #         entrada = 'Lo siento, no te entiendo'\n",
    "#     #         print(entrada)\n",
    "#     #         #print(\"Lo siento, no te entiendo\")\n",
    "#     # user_response = entrada\n",
    "\n",
    "\n",
    "#     speak(\"Dime cual es tu duda\")\n",
    "\n",
    "#     with sr.Microphone() as source:\n",
    "#         r.adjust_for_ambient_noise(source)\n",
    "#         audio = r.listen(source)\n",
    "\n",
    "#     text = r.recognize_google(audio, language='es',show_all=True)\n",
    "    \n",
    "#     # entrada = format(text)\n",
    "\n",
    "#     try:\n",
    "#         entrada = text['alternative'][0]['transcript']\n",
    "#         # print(entrada)\n",
    "        \n",
    "#     except:\n",
    "#         entrada = ' '\n",
    "#     print(\"user:> \",entrada)\n",
    "#     user_response = entrada.lower()\n",
    "\n",
    "\n",
    "\n",
    "\n",
    "\n",
    "\n",
    "\n",
    "\n",
    "\n",
    "\n",
    "#     if(user_response not in [\"salir\",\"chao\",\"adios\",\"bay\",\"exit\"]):\n",
    "\n",
    "#         if(user_response == 'gracias' or user_response == 'muchas gracias'): #se podria haber definido otra funcion de coincidencia\n",
    "#             flag = True\n",
    "#             thanks_res = \"No hay de que\"\n",
    "#             print(\"Roxanne:> \"+ thanks_res)\n",
    "#             speak(thanks_res)\n",
    "#         else:\n",
    "#             if(saludos(user_response) != None): # si la palabra insertada por el usuario es un saludo (coincidencia manuales)\n",
    "#                 greets = saludos(user_response) \n",
    "#                 print(\"Roxanne:> \" + greets)\n",
    "#                 speak(greets)\n",
    "\n",
    "#             else:#si la palabra insertada no es un saludo --> Corpus\n",
    "#                 respond = response(user_response)\n",
    "#                 print(\"Roxanne:> \" + respond )\n",
    "#                 speak(respond)\n",
    "#                 sent_tokens.remove(user_response) # para eliminar del corpus la respues del usuario y volver a evaluar \n",
    "#     else:\n",
    "#         flag = False\n",
    "#         print(\"Roxanne:> Nos vemos pronto, !Gracias por su visita¡\")\n",
    "#         speak(\"Nos vemos pronto, !Gracias por su visita¡\")  "
   ]
  },
  {
   "cell_type": "code",
   "execution_count": null,
   "metadata": {},
   "outputs": [],
   "source": []
  },
  {
   "cell_type": "code",
   "execution_count": null,
   "metadata": {},
   "outputs": [],
   "source": []
  },
  {
   "cell_type": "code",
   "execution_count": null,
   "metadata": {},
   "outputs": [],
   "source": []
  },
  {
   "cell_type": "code",
   "execution_count": null,
   "metadata": {},
   "outputs": [],
   "source": []
  },
  {
   "cell_type": "code",
   "execution_count": null,
   "metadata": {},
   "outputs": [],
   "source": []
  },
  {
   "cell_type": "code",
   "execution_count": null,
   "metadata": {},
   "outputs": [],
   "source": []
  },
  {
   "cell_type": "code",
   "execution_count": null,
   "metadata": {},
   "outputs": [],
   "source": []
  },
  {
   "cell_type": "code",
   "execution_count": null,
   "metadata": {},
   "outputs": [],
   "source": []
  },
  {
   "cell_type": "code",
   "execution_count": null,
   "metadata": {},
   "outputs": [],
   "source": []
  },
  {
   "cell_type": "code",
   "execution_count": null,
   "metadata": {},
   "outputs": [],
   "source": []
  },
  {
   "cell_type": "code",
   "execution_count": null,
   "metadata": {},
   "outputs": [],
   "source": [
    "flag = True\n",
    "introduces = \"AGENTE: MI NOMBRE ES ROXANNE. CONTESTARE A SUS PREGUNTAS ACERCA DEL WEB SCRAPING Y SUS ASUNTOS LEGALES.\"\n",
    "\n",
    "print(introduces)\n",
    "speak(introduces)\n",
    "\n",
    "while(flag == True):\n",
    "\n",
    "    user_response = input()\n",
    "    user_response = user_response.lower() #convertimos a minuscula\n",
    "\n",
    "    if(user_response not in [\"salir\",\"chao\",\"adios\",\"bay\",\"exit\"]):\n",
    "\n",
    "        if(user_response == 'gracias' or user_response == 'muchas gracias'): #se podria haber definido otra funcion de coincidencia\n",
    "            flag = True\n",
    "            thanks_res = \"No hay de que\"\n",
    "            print(\"Roxanne:> \"+ thanks_res)\n",
    "            speak(thanks_res)\n",
    "        else:\n",
    "            if(saludos(user_response) != None): # si la palabra insertada por el usuario es un saludo (coincidencia manuales)\n",
    "                greets = saludos(user_response) \n",
    "                print(\"Roxanne:> \" + greets)\n",
    "                speak(greets)\n",
    "\n",
    "            else:#si la palabra insertada no es un saludo --> Corpus\n",
    "                respond = response(user_response)\n",
    "                print(\"Roxanne:> \" + respond )\n",
    "                speak(respond)\n",
    "                sent_tokens.remove(user_response) # para eliminar del corpus la respues del usuario y volver a evaluar \n",
    "    else:\n",
    "        flag = False\n",
    "        print(\"Roxanne:> Nos vemos pronto, !Gracias por su visita¡\")\n",
    "        speak(\"Nos vemos pronto, !Gracias por su visita¡\")    "
   ]
  }
 ]
}