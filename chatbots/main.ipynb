{
 "metadata": {
  "language_info": {
   "codemirror_mode": {
    "name": "ipython",
    "version": 3
   },
   "file_extension": ".py",
   "mimetype": "text/x-python",
   "name": "python",
   "nbconvert_exporter": "python",
   "pygments_lexer": "ipython3",
   "version": "3.8.5-final"
  },
  "orig_nbformat": 2,
  "kernelspec": {
   "name": "python3",
   "display_name": "Python 3",
   "language": "python"
  }
 },
 "nbformat": 4,
 "nbformat_minor": 2,
 "cells": [
  {
   "cell_type": "code",
   "execution_count": 1,
   "metadata": {},
   "outputs": [],
   "source": [
    "import nltk\n",
    "import numpy as np\n",
    "import random\n",
    "import string"
   ]
  },
  {
   "source": [
    "### Definir CORPUS"
   ],
   "cell_type": "markdown",
   "metadata": {}
  },
  {
   "cell_type": "code",
   "execution_count": 2,
   "metadata": {},
   "outputs": [],
   "source": [
    "f = open(\"corpus.txt\",\"r\",errors='ignore')\n",
    "raw = f.read()"
   ]
  },
  {
   "cell_type": "code",
   "execution_count": 3,
   "metadata": {},
   "outputs": [
    {
     "output_type": "execute_result",
     "data": {
      "text/plain": [
       "'En cuarentena no se pude salir de casa.\\n\\ncomo medidas de prevencion, recuerde siempre laverse las manos y utilizar tababocas.\\n\\nlos tapabocas los puede comprar en la farmacia.\\n\\nPuede comprar alimentos a traves de domicilio.\\n\\nNo se tiene prevista fecha de vacunacion en Colombia.\\n\\nLos medicamentos los puede comprar a domicilio.\\n\\n\\n'"
      ]
     },
     "metadata": {},
     "execution_count": 3
    }
   ],
   "source": [
    "raw"
   ]
  },
  {
   "source": [
    "### Preporcesamiento del texto con NLTK CORPUS"
   ],
   "cell_type": "markdown",
   "metadata": {}
  },
  {
   "cell_type": "code",
   "execution_count": 4,
   "metadata": {},
   "outputs": [],
   "source": [
    "raw = raw.lower() #convertir en minuscular\n",
    "sent_tokens = nltk.sent_tokenize(raw) # convertir corpus a una lista de sentencias (tekenizar en sentencias)\n",
    "word_tokens = nltk.word_tokenize(raw) # convertir corpus a una lista de palabras (tokenizar en palabras)\n",
    "\n",
    "lemmer = nltk.stem.WordNetLemmatizer()#"
   ]
  },
  {
   "cell_type": "code",
   "execution_count": 10,
   "metadata": {},
   "outputs": [],
   "source": [
    "remove_punct_dict = dict((ord(punct),None) for punct in string.punctuation) #remover signos de puntuacion (utilizamos la )\n",
    "\n",
    "def LemTokens(tokens):\n",
    "    return [lemmer.lemmatize(token) for token in tokens] # Lematizar palabras tokenizadas\n",
    "\n",
    "def LemNormalize(text):\n",
    "    return LemTokens(nltk.word_tokenize(text.lower().translate(remove_punct_dict)))\n"
   ]
  },
  {
   "cell_type": "code",
   "execution_count": 27,
   "metadata": {},
   "outputs": [],
   "source": [
    "# remove_punct_dict = dict((ord(punct),word) for punct in string.punctuation for word in word_tokens)"
   ]
  },
  {
   "source": [
    "### Evaluar Similitud Mensaje Usuario - Corpus"
   ],
   "cell_type": "markdown",
   "metadata": {}
  },
  {
   "cell_type": "code",
   "execution_count": 11,
   "metadata": {},
   "outputs": [],
   "source": [
    "from sklearn.feature_extraction.text import TfidfVectorizer\n",
    "from sklearn.metrics.pairwise import cosine_similarity\n",
    "from nltk.corpus import stopwords  "
   ]
  },
  {
   "cell_type": "code",
   "execution_count": 55,
   "metadata": {},
   "outputs": [],
   "source": [
    "#Determinar la similutud del texto inserdado y el corpus\n",
    "\n",
    "def response(user_response):# funcion respuesta (entrada: mensje de usuario)\n",
    "    chatbot_response = '' #definir la respuesta del chatbot\n",
    "    sent_tokens.append(user_response)# al listado de sentencias del corpus añadir al final de la lista el mensaje del usuario\n",
    "    TfidfVec = TfidfVectorizer(tokenizer=LemNormalize,stop_words=stopwords.words('spanish'))# Lematizar y eliminar palbras\n",
    "    tfidf = TfidfVec.fit_transform(sent_tokens)\n",
    "\n",
    "    print(\"a\",tfidf[-1])\n",
    "    print(\"------------------\")\n",
    "    print(tfidf)\n",
    "    # 3 Evaluar similitud coseno entre mensaje usuario (tfid[-1]) y el corpus(tfidf)\n",
    "    vals = cosine_similarity(tfidf[-1],tfidf)\n",
    "   \n",
    "\n",
    "    idx = vals.argsort()[0][-2]\n",
    "    flat = vals.flatten()\n",
    "    \n",
    "    flat.sort()\n",
    "  \n",
    "    req_tfidf = flat[-2]\n",
    "    print(\"------------------\")\n",
    "    print(req_tfidf)\n",
    "    print(idx)\n",
    "    if(req_tfidf == 0):\n",
    "        chatbot_response = chatbot_response + \"Lo siento, no te he entendido\"\n",
    "        return chatbot_response\n",
    "    \n",
    "    else:\n",
    "        chatbot_response = chatbot_response + sent_tokens[idx]\n",
    "        return chatbot_response"
   ]
  },
  {
   "source": [
    "### DEFINICION DE CONINCIDENCIA MANUAL"
   ],
   "cell_type": "markdown",
   "metadata": {}
  },
  {
   "cell_type": "code",
   "execution_count": 56,
   "metadata": {},
   "outputs": [],
   "source": [
    "SALUDOS_INPUTS = (\"hola\",\"buenas\",\"saludos\",\"que tal\",\"hey\",\"buenos dias\")\n",
    "SALUDOS_OUTPUTS = [\"hola\",\"hola, que tal?\",\"Hola, Como te puedo ayudar?\",\"hola, encantado de hablar contigo\"]\n",
    "\n",
    "def saludos(sentence):\n",
    "    for word in sentence.split():\n",
    "        # print(word.lower() in SALUDOS_INPUTS)\n",
    "        if word.lower() in SALUDOS_INPUTS:\n",
    "            return random.choice(SALUDOS_OUTPUTS)"
   ]
  },
  {
   "source": [
    "### GENERACION DE RESPUESTA"
   ],
   "cell_type": "markdown",
   "metadata": {}
  },
  {
   "cell_type": "code",
   "execution_count": 57,
   "metadata": {},
   "outputs": [
    {
     "output_type": "stream",
     "name": "stdout",
     "text": [
      "AGENTE: MI NOMBRE ES AGENTE. CONTESTARE A SUS PREGUNTAS ACERCA DEL COVID Y LAS MEDIDAS DE SIGUIRDAD.\n",
      "AGENTE: *a   (0, 3)\t1.0\n",
      "------------------\n",
      "  (0, 1)\t0.5\n",
      "  (0, 17)\t0.5\n",
      "  (0, 14)\t0.5\n",
      "  (0, 4)\t0.5\n",
      "  (1, 19)\t0.35355339059327373\n",
      "  (1, 22)\t0.35355339059327373\n",
      "  (1, 9)\t0.35355339059327373\n",
      "  (1, 8)\t0.35355339059327373\n",
      "  (1, 18)\t0.35355339059327373\n",
      "  (1, 16)\t0.35355339059327373\n",
      "  (1, 12)\t0.35355339059327373\n",
      "  (1, 11)\t0.35355339059327373\n",
      "  (2, 6)\t0.6169266931593301\n",
      "  (2, 3)\t0.3911811902785459\n",
      "  (2, 15)\t0.44615681259330786\n",
      "  (2, 20)\t0.5170327167755766\n",
      "  (3, 5)\t0.4400320599888547\n",
      "  (3, 21)\t0.5250490246458531\n",
      "  (3, 0)\t0.5250490246458531\n",
      "  (3, 3)\t0.33292335166069675\n",
      "  (3, 15)\t0.37971156360828673\n",
      "  (4, 2)\t0.5\n",
      "  (4, 23)\t0.5\n",
      "  (4, 7)\t0.5\n",
      "  (4, 13)\t0.5\n",
      "  (5, 10)\t0.6169266931593301\n",
      "  (5, 5)\t0.5170327167755766\n",
      "  (5, 3)\t0.3911811902785459\n",
      "  (5, 15)\t0.44615681259330786\n",
      "  (6, 20)\t1.0\n",
      "  (7, 3)\t1.0\n",
      "------------------\n",
      "0.391181190278546\n",
      "5\n",
      "los medicamentos los puede comprar a domicilio.*\n",
      "AGENTE: Nos vemos pronto, !Gracias por su visita¡\n"
     ]
    }
   ],
   "source": [
    "flag = True\n",
    "\n",
    "print(\"AGENTE: MI NOMBRE ES AGENTE. CONTESTARE A SUS PREGUNTAS ACERCA DEL COVID Y LAS MEDIDAS DE SIGUIRDAD.\")\n",
    "while(flag == True):\n",
    "    user_response = input()\n",
    "    user_response = user_response.lower() #convertimos a minuscula\n",
    "\n",
    "    if(user_response not in [\"salir\",\"chao\",\"adios\"]):\n",
    "        if(user_response == 'gracias' or user_response == 'muchas gracias'): #se podria haber definido otra funcion de coincidencia\n",
    "            flag = True\n",
    "            print(\"AGENTE: No hay de que\")\n",
    "        else:\n",
    "            if(saludos(user_response) != None): # si la palabra insertada por el usuario es un saludo (coincidencia manuales)\n",
    "                print(\"AGENTE: \"+saludos(user_response))\n",
    "            else:#si la palabra insertada no es un saludo --> Corpus\n",
    "                print(\"AGENTE: \",end =\"*\")\n",
    "                print(response(user_response),end=\"*\\n\")\n",
    "                sent_tokens.remove(user_response) # para eliminar del corpus la respues del usuario y volver a evaluar \n",
    "    else:\n",
    "        flag = False\n",
    "        print(\"AGENTE: Nos vemos pronto, !Gracias por su visita¡\")                \n",
    "    "
   ]
  },
  {
   "cell_type": "code",
   "execution_count": 49,
   "metadata": {},
   "outputs": [
    {
     "output_type": "execute_result",
     "data": {
      "text/plain": [
       "['en cuarentena no se pude salir de casa.',\n",
       " 'como medidas de prevencion, recuerde siempre laverse las manos y utilizar tababocas.',\n",
       " 'los tapabocas los puede comprar en la farmacia.',\n",
       " 'puede comprar alimentos a traves de domicilio.',\n",
       " 'no se tiene prevista fecha de vacunacion en colombia.',\n",
       " 'los medicamentos los puede comprar a domicilio.',\n",
       " 'tapabocas']"
      ]
     },
     "metadata": {},
     "execution_count": 49
    }
   ],
   "source": [
    "sent_tokens"
   ]
  },
  {
   "cell_type": "code",
   "execution_count": null,
   "metadata": {},
   "outputs": [],
   "source": []
  }
 ]
}